{
 "cells": [
  {
   "cell_type": "code",
   "execution_count": 1,
   "id": "24eb6b4e-2893-46d0-b0d0-7d75c45374e5",
   "metadata": {},
   "outputs": [
    {
     "name": "stdout",
     "output_type": "stream",
     "text": [
      "Requirement already satisfied: xlrd in c:\\users\\r9zhe\\appdata\\local\\programs\\python\\python312\\lib\\site-packages (2.0.1)\n",
      "Requirement already satisfied: pip in c:\\users\\r9zhe\\appdata\\local\\programs\\python\\python312\\lib\\site-packages (25.0.1)\n"
     ]
    }
   ],
   "source": [
    "from sklearn.neighbors import KNeighborsRegressor\n",
    "from sklearn.model_selection import KFold, cross_val_score\n",
    "import pandas as pd\n",
    "from sklearn.preprocessing import scale\n",
    "import numpy as np\n",
    "!pip install xlrd\n",
    "!pip install --upgrade pip"
   ]
  },
  {
   "cell_type": "markdown",
   "id": "e22582e4-7344-4e4d-8381-cdf1812269b4",
   "metadata": {},
   "source": [
    " ## 1. Загрузите выборку Boston Результатом вызова данной функции является объект, у которого признаки записаны в поле data, а целевой вектор в поле target."
   ]
  },
  {
   "cell_type": "code",
   "execution_count": 2,
   "id": "efef9d5e-0945-474b-9a68-3806b6f4754d",
   "metadata": {},
   "outputs": [
    {
     "data": {
      "text/plain": [
       "((506, 13), (506,))"
      ]
     },
     "execution_count": 2,
     "metadata": {},
     "output_type": "execute_result"
    }
   ],
   "source": [
    "# загружаю датасет boston не со склеарн, т.к. там он удален\n",
    "df = pd.read_excel('boston.xls', header=0)\n",
    "X = df.iloc[0:, :-1]\n",
    "y = df.iloc[:, -1]\n",
    "X.shape, y.shape"
   ]
  },
  {
   "cell_type": "markdown",
   "id": "9c468110-f09f-4006-adf6-24d761b69ba8",
   "metadata": {},
   "source": [
    "## 2. Приведите признаки в выборке к одному масштабу при помощи функции sklearn.preprocessing.scale."
   ]
  },
  {
   "cell_type": "code",
   "execution_count": 3,
   "id": "455a6386-11cc-47ec-8222-5aa812e23d1a",
   "metadata": {},
   "outputs": [
    {
     "data": {
      "text/plain": [
       "(506, 13)"
      ]
     },
     "execution_count": 3,
     "metadata": {},
     "output_type": "execute_result"
    }
   ],
   "source": [
    "X = scale(X, axis=0)\n",
    "X.shape"
   ]
  },
  {
   "cell_type": "markdown",
   "id": "24f338eb-1724-4a97-af5c-5f9f8d22e20d",
   "metadata": {},
   "source": [
    "## 3. Переберите разные варианты параметра метрики p по сетке от 1 до 10 с таким шагом, чтобы всего было протестировано 200 вариантов (используйте функцию numpy.linspace)."
   ]
  },
  {
   "cell_type": "code",
   "execution_count": 4,
   "id": "26aa7cce-dba2-4b5a-ad42-865ad744e112",
   "metadata": {},
   "outputs": [],
   "source": [
    "plist = np.linspace(1, 10, 200)\n",
    "glist = KFold(n_splits=5, shuffle=True, random_state=42)\n",
    "result = []\n",
    "for p in plist:\n",
    "    model = KNeighborsRegressor(n_neighbors=5, weights='distance', p=p)\n",
    "    result.append([cross_val_score(model, X, y, cv=glist, scoring='neg_mean_squared_error').mean(), p])\n"
   ]
  },
  {
   "cell_type": "markdown",
   "id": "a1f04a2f-d981-4c83-92ae-d552f3b9e67d",
   "metadata": {},
   "source": [
    "## 4. Определите, при каком p качество на кросс-валидации оказалось оптимальным. \n",
    "Обратите внимание, что cross_val_score возвращает массив показателей качества по блокам; необходимо максимизировать среднее этих показателей. Это значение параметра и будет ответом на задачу"
   ]
  },
  {
   "cell_type": "code",
   "execution_count": 5,
   "id": "0268c0bc-eb90-450e-81e0-03b6640ea28b",
   "metadata": {},
   "outputs": [
    {
     "data": {
      "text/plain": [
       "'1.0'"
      ]
     },
     "execution_count": 5,
     "metadata": {},
     "output_type": "execute_result"
    }
   ],
   "source": [
    "optimal_k = max(result, key=lambda x: x[0])[1]\n",
    "f'{optimal_k:.2}'"
   ]
  }
 ],
 "metadata": {
  "kernelspec": {
   "display_name": "Python 3 (ipykernel)",
   "language": "python",
   "name": "python3"
  },
  "language_info": {
   "codemirror_mode": {
    "name": "ipython",
    "version": 3
   },
   "file_extension": ".py",
   "mimetype": "text/x-python",
   "name": "python",
   "nbconvert_exporter": "python",
   "pygments_lexer": "ipython3",
   "version": "3.12.4"
  }
 },
 "nbformat": 4,
 "nbformat_minor": 5
}
