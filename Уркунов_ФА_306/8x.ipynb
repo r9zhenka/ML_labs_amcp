{
 "cells": [
  {
   "cell_type": "code",
   "execution_count": 2,
   "id": "9b6bb6bd-ab7a-469e-9417-a49e0769c647",
   "metadata": {},
   "outputs": [],
   "source": [
    "import pandas as pd\n",
    "from sklearn.metrics import roc_auc_score as aucroc\n",
    "import numpy as np"
   ]
  },
  {
   "cell_type": "markdown",
   "id": "362e6ff0-1da6-4b16-a88c-50f3ce2d4dda",
   "metadata": {},
   "source": [
    "## 1. Загрузите данные из файла data-logistic.csv. \n",
    "Это двумерная выборка, целевая переменная на которой принимает значения-1 или 1."
   ]
  },
  {
   "cell_type": "code",
   "execution_count": 4,
   "id": "e449eaea-0bee-4f3b-a74c-7061d312e714",
   "metadata": {},
   "outputs": [],
   "source": [
    "data = pd.read_csv('08-statement-logistic/data-logistic.csv')\n",
    "sz_train = len(data)\n",
    "X = data.iloc[:, 1:]\n",
    "y = data.iloc[:, 0]\n",
    "# next(zip(data.iloc[:, 0], (data.iloc[:, 1], data.iloc[:, 2])))"
   ]
  },
  {
   "cell_type": "markdown",
   "id": "8c50e878-bd44-4e88-9464-d29a5c62904c",
   "metadata": {},
   "source": [
    "##  2. Убедитесь, что выше выписаны правильные формулы для градиентного спуска. \n",
    "Обратите внимание, что мы используем полноценный градиентный спуск, а не его стохастический вариант!"
   ]
  },
  {
   "cell_type": "code",
   "execution_count": 26,
   "id": "c2f5cdae-6299-42e3-b7c9-a05b51023651",
   "metadata": {},
   "outputs": [
    {
     "data": {
      "text/plain": [
       "(0      1\n",
       " 1     -1\n",
       " 2      1\n",
       " 3      1\n",
       " 4      1\n",
       "       ..\n",
       " 199    1\n",
       " 200    1\n",
       " 201   -1\n",
       " 202    1\n",
       " 203   -1\n",
       " Name: -1, Length: 204, dtype: int64,\n",
       "      -0.663826536825  -0.138525716794\n",
       " 0           1.994596         2.468025\n",
       " 1          -1.247395         0.749425\n",
       " 2           2.309374         1.899836\n",
       " 3           0.849143         2.407750\n",
       " 4           1.454271        -0.665416\n",
       " ..               ...              ...\n",
       " 199         4.245176         3.053931\n",
       " 200         2.437935         1.357804\n",
       " 201        -1.876638         1.533398\n",
       " 202        -6.824446       -13.934211\n",
       " 203         0.001805         0.865147\n",
       " \n",
       " [204 rows x 2 columns])"
      ]
     },
     "execution_count": 26,
     "metadata": {},
     "output_type": "execute_result"
    }
   ],
   "source": [
    "data.iloc[:, 0], data.iloc[:, 1:]"
   ]
  },
  {
   "cell_type": "markdown",
   "id": "b29df25a-66f1-4215-a3d3-31f678c57058",
   "metadata": {},
   "source": [
    "## 3. Реализуйте градиентный спуск для обычной и L2-регуляризованной (с коэффициентом регуляризации 10) логистической регрессии. \n",
    "Используйте длину шага k=0.1. В качестве начального приближения используйте вектор (0, 0)."
   ]
  },
  {
   "cell_type": "code",
   "execution_count": 38,
   "id": "4d8b1bef-2e08-4d9b-87c4-dd7676d61b75",
   "metadata": {},
   "outputs": [],
   "source": [
    "\n",
    "def gradient_descent(w1, w2, k, y_train, x_train1, x_train2, C=False):\n",
    "    if C == False:\n",
    "        C = 0\n",
    "    for i in range(10 ** 3):\n",
    "        w1 += k * np.mean([y * x0 * (1 - 1/ (1 + np.exp(-y * (w1 * x0 + w2 * x1)))) - k*C*w1 for y, x0, x1 in zip(y_train, x_train1, x_train2)])\n",
    "        w2 += k * np.mean([y * x1 * (1 - 1/ (1 + np.exp(-y * (w1 * x0 + w2 * x1)))) - k*C*w2 for y, x0, x1 in zip(y_train, x_train1, x_train2)])\n",
    "\n",
    "    return w1, w2"
   ]
  },
  {
   "cell_type": "markdown",
   "id": "283e796c-7ecb-45fa-9002-0c5987c4dd58",
   "metadata": {},
   "source": [
    "##  4. Запустите градиентный спуск и доведите до сходимости (евклидово расстояние между векторами весов на соседних итерациях должно быть не больше 1e-5). Рекомендуется ограничить сверху число итераций десятью тысячами."
   ]
  },
  {
   "cell_type": "code",
   "execution_count": 39,
   "id": "a85aa4f5-506f-4287-bf57-4d7d7e7da7cc",
   "metadata": {},
   "outputs": [
    {
     "data": {
      "text/plain": [
       "(np.float64(0.2846620387783225), np.float64(0.09333961282516794))"
      ]
     },
     "execution_count": 39,
     "metadata": {},
     "output_type": "execute_result"
    }
   ],
   "source": [
    "gradient_descent(0, 0, 0.1, data.iloc[:, 0], data.iloc[:, 1], data.iloc[:, 2])"
   ]
  },
  {
   "cell_type": "markdown",
   "id": "a8436480-1052-4f4b-b186-7c79bde61901",
   "metadata": {},
   "source": [
    "## 5. Какое значение принимает AUC-ROC на обучении без регуляризации и при ее использовании? \n",
    "Эти величины будут ответом на задание. В качестве ответа приведите два числа через пробел. "
   ]
  },
  {
   "cell_type": "code",
   "execution_count": null,
   "id": "9efb37f3-3a71-4c7b-aaff-306b2bdd44cb",
   "metadata": {},
   "outputs": [],
   "source": []
  },
  {
   "cell_type": "markdown",
   "id": "eaa274ca-f146-4e0f-8c0d-3f7c6578c98a",
   "metadata": {},
   "source": [
    "## 6. Попробуйте поменять длину шага. \n",
    "Будет ли сходиться алгоритм, если делать более длинные шаги? Как меняется число итераций при уменьшении длины шага?"
   ]
  },
  {
   "cell_type": "code",
   "execution_count": null,
   "id": "c522549d-d23c-4f28-9a91-289da003be41",
   "metadata": {},
   "outputs": [],
   "source": []
  },
  {
   "cell_type": "markdown",
   "id": "65ab6a2c-8f2b-42a5-8868-c5b180fc4555",
   "metadata": {},
   "source": [
    "## 7. Попробуйте менять начальное приближение. Влияет ли оно на что-нибудь?"
   ]
  },
  {
   "cell_type": "code",
   "execution_count": null,
   "id": "dfa81daf-1a23-498f-bd96-9fd12f234dab",
   "metadata": {},
   "outputs": [],
   "source": []
  }
 ],
 "metadata": {
  "kernelspec": {
   "display_name": "Python 3 (ipykernel)",
   "language": "python",
   "name": "python3"
  },
  "language_info": {
   "codemirror_mode": {
    "name": "ipython",
    "version": 3
   },
   "file_extension": ".py",
   "mimetype": "text/x-python",
   "name": "python",
   "nbconvert_exporter": "python",
   "pygments_lexer": "ipython3",
   "version": "3.12.4"
  }
 },
 "nbformat": 4,
 "nbformat_minor": 5
}
