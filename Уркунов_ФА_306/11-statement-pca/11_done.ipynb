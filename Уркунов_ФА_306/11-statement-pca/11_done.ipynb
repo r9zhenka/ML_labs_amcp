{
 "cells": [
  {
   "cell_type": "code",
   "execution_count": 1,
   "id": "b5b02c9d-c728-4099-8caa-8c8dd62f9e9b",
   "metadata": {},
   "outputs": [],
   "source": [
    "from sklearn.decomposition import PCA\n",
    "from numpy import corrcoef\n",
    "import pandas as pd\n",
    "import numpy as np"
   ]
  },
  {
   "cell_type": "markdown",
   "id": "48c3f749-82a0-462d-ac8d-5b396dce47b9",
   "metadata": {},
   "source": [
    "## 1. Загрузите данные close_prices.csv. \n",
    "В этом файле приведены цены акций 30 компаний на закрытии торгов за каждый день периода."
   ]
  },
  {
   "cell_type": "code",
   "execution_count": 2,
   "id": "5f3fff6e-db06-496e-94f8-8d98dc9a11f6",
   "metadata": {},
   "outputs": [],
   "source": [
    "df = pd.read_csv('11-statement-pca/close_prices.csv')\n",
    "X = df.iloc[:, 1:]"
   ]
  },
  {
   "cell_type": "markdown",
   "id": "76cee7c4-426b-4449-829b-e83ac64dbbe4",
   "metadata": {},
   "source": [
    " ## 2. На загруженных данных обучите преобразование PCA с числом компоненты равным 10. \n",
    " Скольких компонент хватит, чтобы объяснить 90% дисперсии?"
   ]
  },
  {
   "cell_type": "code",
   "execution_count": 3,
   "id": "0e4c89bf-2536-4633-aef8-2a1cabd77549",
   "metadata": {},
   "outputs": [
    {
     "data": {
      "text/plain": [
       "4"
      ]
     },
     "execution_count": 3,
     "metadata": {},
     "output_type": "execute_result"
    }
   ],
   "source": [
    "pca = PCA(n_components=10)\n",
    "post_pca = pca.fit(X)\n",
    "n_data, sum_var = 0, 0\n",
    "for x in pca.explained_variance_ratio_:\n",
    "    sum_var += x\n",
    "    n_data +=1\n",
    "    if sum_var >= 0.9:\n",
    "        break\n",
    "n_data"
   ]
  },
  {
   "cell_type": "markdown",
   "id": "4d18d878-f12b-4e8e-9554-e74b0d92f045",
   "metadata": {},
   "source": [
    "## 3. Примените построенное преобразование к исходным данным и возьмите значения первой компоненты"
   ]
  },
  {
   "cell_type": "code",
   "execution_count": 4,
   "id": "9098a500-0e03-4d7c-a332-5991324d9aa5",
   "metadata": {},
   "outputs": [
    {
     "data": {
      "text/plain": [
       "array([-50.90240358, -52.84690919, -54.61443917, -52.60056628,\n",
       "       -52.3701233 , -54.65341197, -52.81257496, -53.6511457 ,\n",
       "       -56.69272698, -54.40265506])"
      ]
     },
     "execution_count": 4,
     "metadata": {},
     "output_type": "execute_result"
    }
   ],
   "source": [
    "X1 = pca.transform(X)[:, 0]\n",
    "X1[:10]"
   ]
  },
  {
   "cell_type": "markdown",
   "id": "67f9d7b2-9417-4719-a24a-a2da27909b42",
   "metadata": {},
   "source": [
    " ## 4. Загрузите информацию об индексе Доу-Джонса из файла djia_prices.csv.\n",
    " Чему равна корреляция Пирсона между первой компонентой и индексом Доу-Джонса"
   ]
  },
  {
   "cell_type": "code",
   "execution_count": 5,
   "id": "5d15f13d-e2bc-4ab8-8471-d42d5f136f22",
   "metadata": {},
   "outputs": [
    {
     "data": {
      "text/plain": [
       "0.91"
      ]
     },
     "execution_count": 5,
     "metadata": {},
     "output_type": "execute_result"
    }
   ],
   "source": [
    "df2 = pd.read_csv('11-statement-pca/djia_index.csv')\n",
    "\n",
    "corr = corrcoef(X1, df2.iloc[:, 1])\n",
    "round(corr[0, 1].item(), 2)"
   ]
  },
  {
   "cell_type": "markdown",
   "id": "59c08721-6084-415f-9f1f-1666d35bf482",
   "metadata": {},
   "source": [
    "## 5. Какая компания имеет наибольший вес в первой компоненте?"
   ]
  },
  {
   "cell_type": "code",
   "execution_count": 6,
   "id": "0ed44481-883e-4070-8f56-7a1176eb6d6f",
   "metadata": {},
   "outputs": [
    {
     "data": {
      "text/plain": [
       "'V'"
      ]
     },
     "execution_count": 6,
     "metadata": {},
     "output_type": "execute_result"
    }
   ],
   "source": [
    "X.iloc[:, np.argmax(pca.components_[0])].name"
   ]
  }
 ],
 "metadata": {
  "kernelspec": {
   "display_name": "Python 3 (ipykernel)",
   "language": "python",
   "name": "python3"
  },
  "language_info": {
   "codemirror_mode": {
    "name": "ipython",
    "version": 3
   },
   "file_extension": ".py",
   "mimetype": "text/x-python",
   "name": "python",
   "nbconvert_exporter": "python",
   "pygments_lexer": "ipython3",
   "version": "3.12.4"
  }
 },
 "nbformat": 4,
 "nbformat_minor": 5
}
