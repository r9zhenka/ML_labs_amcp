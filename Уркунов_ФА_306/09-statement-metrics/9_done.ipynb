{
 "cells": [
  {
   "cell_type": "code",
   "execution_count": 1,
   "id": "65a73edd-626f-4d85-8334-29532c633a26",
   "metadata": {},
   "outputs": [],
   "source": [
    "import pandas as pd\n",
    "import numpy as np\n",
    "from sklearn.metrics import accuracy_score, precision_score, recall_score, f1_score, roc_auc_score, precision_recall_curve"
   ]
  },
  {
   "cell_type": "markdown",
   "id": "3d16dbe2-7f1e-42e2-af13-26a2c7483e8d",
   "metadata": {},
   "source": [
    "## 1. Загрузите файл classification.csv.\n",
    "В нем записаны истинные классы объектов выборки (колонка true) и ответы некоторого классифика\n",
    "тора (колонка predicted)"
   ]
  },
  {
   "cell_type": "code",
   "execution_count": 2,
   "id": "a07163cc-04c7-473e-aa0f-0c755b373ab6",
   "metadata": {},
   "outputs": [],
   "source": [
    "data = pd.read_csv('09-statement-metrics/classification.csv')\n",
    "data.head()\n",
    "pred = np.array(data.iloc[:, 0])\n",
    "y = np.array(data.iloc[:, 1])"
   ]
  },
  {
   "cell_type": "markdown",
   "id": "d9d70d9a-e603-40e8-821a-864191cfb270",
   "metadata": {},
   "source": [
    "##  2. Заполните таблицу ошибок классификации"
   ]
  },
  {
   "cell_type": "code",
   "execution_count": 3,
   "id": "48be962e-df58-43b1-bd45-65dc38798bfc",
   "metadata": {},
   "outputs": [
    {
     "data": {
      "text/plain": [
       "(43, 59, 34, 64)"
      ]
     },
     "execution_count": 3,
     "metadata": {},
     "output_type": "execute_result"
    }
   ],
   "source": [
    "TP = np.sum((pred == 1) & (y == 1)).item()\n",
    "FP = np.sum((pred == 1) & (y == 0)).item()\n",
    "FN = np.sum((pred == 0) & (y == 1)).item()\n",
    "TN = np.sum((pred == 0) & (y == 0)).item()\n",
    "TP, FP, FN, TN"
   ]
  },
  {
   "cell_type": "markdown",
   "id": "a4d03cff-fb16-4d9d-9318-3feda21087d3",
   "metadata": {},
   "source": [
    "##  3. Посчитайте основные метрики качества классификатора: accuracy, precision, recall, f1"
   ]
  },
  {
   "cell_type": "code",
   "execution_count": 4,
   "id": "a39b8b06-c0a4-46dd-bfe8-321882d7e023",
   "metadata": {},
   "outputs": [
    {
     "name": "stdout",
     "output_type": "stream",
     "text": [
      "0.54, 0.42, 0.56, 0.48\n"
     ]
    }
   ],
   "source": [
    "accuracy = accuracy_score(y, pred)\n",
    "precision = precision_score(y, pred)\n",
    "recall = recall_score(y, pred)\n",
    "f1 = f1_score(y, pred)\n",
    "print(f'{accuracy:.2f}, {precision:.2f}, {recall:.2f}, {f1:.2f}')"
   ]
  },
  {
   "cell_type": "markdown",
   "id": "4981ac23-1805-4515-9cd2-91b87c32115a",
   "metadata": {},
   "source": [
    "## 4. Имеется четыре обученных классификатора. \n",
    "В файле scores.csv записаны истинные классы и значения степени принадлежности положительному классу для каждого классификатора на некоторой выборке"
   ]
  },
  {
   "cell_type": "code",
   "execution_count": 7,
   "id": "421f39c2-806d-43c1-84d9-f06b836825da",
   "metadata": {},
   "outputs": [],
   "source": [
    "data = pd.read_csv('09-statement-metrics/scores.csv')\n",
    "y = np.array(data.iloc[:, 0])\n"
   ]
  },
  {
   "cell_type": "markdown",
   "id": "14f80ee2-83e9-48c6-9d69-1c1d4afd2271",
   "metadata": {},
   "source": [
    "## 5. Посчитайте площадь под ROC-кривой для каждого классификатора.\n",
    "Какой классификатор имеет наибольшее значение метрики AUC-ROC (укажите название столбца с ответами этого классификатора)?"
   ]
  },
  {
   "cell_type": "code",
   "execution_count": 8,
   "id": "2b8d6798-4c37-435f-be81-6cb99a2d2022",
   "metadata": {},
   "outputs": [
    {
     "name": "stdout",
     "output_type": "stream",
     "text": [
      "score_logreg\n"
     ]
    }
   ],
   "source": [
    "names = data.columns[1:] # title of columns\n",
    "auc = [(names[i-1], roc_auc_score(y, np.array(data.iloc[:, i]))) for i in range(1, data.shape[-1])]\n",
    "\n",
    "print(max(auc, key=lambda x: x[-1])[0])"
   ]
  },
  {
   "cell_type": "markdown",
   "id": "097fe8f2-f501-498f-86be-eb3f84ddbc59",
   "metadata": {},
   "source": [
    " ## 6. Какой классификатор достигает наибольшей точности (Precision) при полноте (Recall) не менее 70% (укажите название столбца с ответами этого классификатора)?\n",
    " Какое значение точности при этом получается?"
   ]
  },
  {
   "cell_type": "code",
   "execution_count": 19,
   "id": "928a2cde-fe8f-45db-9fce-a4d5d0c679da",
   "metadata": {},
   "outputs": [
    {
     "name": "stdout",
     "output_type": "stream",
     "text": [
      "score_tree\n"
     ]
    }
   ],
   "source": [
    "# [precision_recall_curve(y_true=y, y_score=np.array(data.iloc[:, i])) for i in range(1, data.shape[-1])]\n",
    "# list(filter(lambda x: x[0] >= 0.7, precision_recall_curve(y_true=y, y_score=np.array(data.iloc[:, 1]))))\n",
    "ans = []\n",
    "for i, name in enumerate(names):\n",
    "    listof3 = precision_recall_curve(y_true=y, y_score=np.array(data.iloc[:, i + 1]))\n",
    "    ans.append((name, listof3[0][listof3[1] >= 0.7].max()))\n",
    "\n",
    "print(max(ans, key=lambda x: x[-1])[0])"
   ]
  },
  {
   "cell_type": "code",
   "execution_count": null,
   "id": "9f0c78ca-dc9a-462f-ada5-a7b1b4672921",
   "metadata": {},
   "outputs": [],
   "source": []
  }
 ],
 "metadata": {
  "kernelspec": {
   "display_name": "Python 3 (ipykernel)",
   "language": "python",
   "name": "python3"
  },
  "language_info": {
   "codemirror_mode": {
    "name": "ipython",
    "version": 3
   },
   "file_extension": ".py",
   "mimetype": "text/x-python",
   "name": "python",
   "nbconvert_exporter": "python",
   "pygments_lexer": "ipython3",
   "version": "3.12.4"
  }
 },
 "nbformat": 4,
 "nbformat_minor": 5
}
