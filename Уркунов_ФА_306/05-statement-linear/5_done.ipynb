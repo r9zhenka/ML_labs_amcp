{
 "cells": [
  {
   "cell_type": "code",
   "execution_count": 1,
   "id": "9f57b3b9-aa47-4b6a-99be-521e6516765e",
   "metadata": {},
   "outputs": [],
   "source": [
    "import pandas as pd\n",
    "import numpy as np\n",
    "from sklearn.linear_model import Perceptron\n",
    "from sklearn.metrics import accuracy_score\n",
    "from sklearn.preprocessing import StandardScaler"
   ]
  },
  {
   "cell_type": "markdown",
   "id": "b07caf8f-7bbd-4d69-b9db-9a04d6dfc9fa",
   "metadata": {},
   "source": [
    "## 1. Загрузите обучающую и тестовую выборки из файлов perceptrontrain.csv и perceptron-test.csv. \n",
    "Целевая переменная записана в первом столбце, признаки — во втором и третьем."
   ]
  },
  {
   "cell_type": "code",
   "execution_count": 2,
   "id": "f81387a7-7e5b-445b-8cb5-b032a872afca",
   "metadata": {},
   "outputs": [],
   "source": [
    "df_train = pd.read_csv('05-statement-linear/perceptron-train.csv', header=None)\n",
    "df_test = pd.read_csv('05-statement-linear/perceptron-test.csv', header=None)\n",
    "\n",
    "# отделяем признаки от ответов\n",
    "X_train = df_train.loc[:, 1:]\n",
    "y_train = df_train[0]\n",
    "\n",
    "X_test = df_test.loc[:, 1:]\n",
    "y_test = df_test[0]"
   ]
  },
  {
   "cell_type": "markdown",
   "id": "6818dd0b-4a92-461b-b327-8b825ce4fa29",
   "metadata": {},
   "source": [
    " ## 2. Обучите персептрон со стандартными параметрами и random_state=241"
   ]
  },
  {
   "cell_type": "code",
   "execution_count": 3,
   "id": "058f782f-ad1c-4085-945d-ec0c6a465ef6",
   "metadata": {},
   "outputs": [],
   "source": [
    "model = Perceptron(random_state=241)\n",
    "model.fit(X_train, y_train)\n",
    "predictions = model.predict(X_test)\n"
   ]
  },
  {
   "cell_type": "markdown",
   "id": "9e8271b4-0587-4eb6-8ccd-b3434be8d9de",
   "metadata": {},
   "source": [
    " ## 3. Подсчитайте качество (долю правильно классифицированных объектов, accuracy) \n",
    "полученного классификатора на тестовой выборке."
   ]
  },
  {
   "cell_type": "code",
   "execution_count": 5,
   "id": "4fb1cb33-902b-494c-86a4-2984efe92b31",
   "metadata": {},
   "outputs": [
    {
     "data": {
      "text/plain": [
       "0.655"
      ]
     },
     "execution_count": 5,
     "metadata": {},
     "output_type": "execute_result"
    }
   ],
   "source": [
    "ans_not_norm = accuracy_score(y_test, predictions)\n",
    "ans_not_norm"
   ]
  },
  {
   "cell_type": "markdown",
   "id": "745bff81-4013-4d48-87ca-4e205c8899ff",
   "metadata": {},
   "source": [
    "## 4. Нормализуйте обучающую и тестовую выборку с помощью класса StandardScaler."
   ]
  },
  {
   "cell_type": "code",
   "execution_count": 7,
   "id": "e7b984d0-ceb5-46ce-91f3-53d7a8165f74",
   "metadata": {},
   "outputs": [],
   "source": [
    "scaler = StandardScaler()\n",
    "X_train_scaled = scaler.fit_transform(X_train)\n",
    "X_test_scaled = scaler.transform(X_test)"
   ]
  },
  {
   "cell_type": "markdown",
   "id": "7bd57150-2567-43b8-8d7c-cbb94225fa59",
   "metadata": {},
   "source": [
    "## 5. Обучите персептрон на новых выборках. Найдите долю правильных ответов на тестовой выборке."
   ]
  },
  {
   "cell_type": "code",
   "execution_count": 8,
   "id": "ac9e8c6c-b734-47ec-980d-6fd2246e8498",
   "metadata": {},
   "outputs": [
    {
     "data": {
      "text/plain": [
       "0.725"
      ]
     },
     "execution_count": 8,
     "metadata": {},
     "output_type": "execute_result"
    }
   ],
   "source": [
    "model.fit(X_train_scaled, y_train)\n",
    "# pred = model.predict(X_test_scaled)\n",
    "ans_normal = accuracy_score(y_test, model.predict(X_test_scaled), normalize=True)\n",
    "ans_normal"
   ]
  },
  {
   "cell_type": "markdown",
   "id": "f6198aaa-7596-4d59-b06a-5751d9a21cb7",
   "metadata": {},
   "source": [
    "## 6. Найдите разность между качеством на тестовой выборке после нормализации и качеством до нее. Это число и будет ответом на задание."
   ]
  },
  {
   "cell_type": "code",
   "execution_count": 9,
   "id": "b7ee6b71-b26e-4ac7-b24c-03b670a58894",
   "metadata": {},
   "outputs": [
    {
     "data": {
      "text/plain": [
       "'Ответ: 0.07'"
      ]
     },
     "execution_count": 9,
     "metadata": {},
     "output_type": "execute_result"
    }
   ],
   "source": [
    "f'Ответ: {ans_normal - ans_not_norm:.2f}'"
   ]
  },
  {
   "cell_type": "code",
   "execution_count": null,
   "id": "12a722cd-c20d-4be9-90be-745e3db6f4e6",
   "metadata": {},
   "outputs": [],
   "source": []
  }
 ],
 "metadata": {
  "kernelspec": {
   "display_name": "Python 3 (ipykernel)",
   "language": "python",
   "name": "python3"
  },
  "language_info": {
   "codemirror_mode": {
    "name": "ipython",
    "version": 3
   },
   "file_extension": ".py",
   "mimetype": "text/x-python",
   "name": "python",
   "nbconvert_exporter": "python",
   "pygments_lexer": "ipython3",
   "version": "3.12.4"
  }
 },
 "nbformat": 4,
 "nbformat_minor": 5
}
