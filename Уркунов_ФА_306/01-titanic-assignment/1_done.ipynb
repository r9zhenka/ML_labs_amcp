{
 "cells": [
  {
   "cell_type": "code",
   "execution_count": 1,
   "id": "e65e9964-7a83-42ed-8760-d4ca0f4cabf4",
   "metadata": {},
   "outputs": [],
   "source": [
    "import pandas as pd\n",
    "import numpy as np\n",
    "import re\n",
    "from collections import Counter"
   ]
  },
  {
   "cell_type": "code",
   "execution_count": 2,
   "id": "c7047166-c3d5-4a7c-87bf-518ac490e950",
   "metadata": {},
   "outputs": [
    {
     "data": {
      "text/html": [
       "<div>\n",
       "<style scoped>\n",
       "    .dataframe tbody tr th:only-of-type {\n",
       "        vertical-align: middle;\n",
       "    }\n",
       "\n",
       "    .dataframe tbody tr th {\n",
       "        vertical-align: top;\n",
       "    }\n",
       "\n",
       "    .dataframe thead th {\n",
       "        text-align: right;\n",
       "    }\n",
       "</style>\n",
       "<table border=\"1\" class=\"dataframe\">\n",
       "  <thead>\n",
       "    <tr style=\"text-align: right;\">\n",
       "      <th></th>\n",
       "      <th>PassengerId</th>\n",
       "      <th>Survived</th>\n",
       "      <th>Pclass</th>\n",
       "      <th>Name</th>\n",
       "      <th>Sex</th>\n",
       "      <th>Age</th>\n",
       "      <th>SibSp</th>\n",
       "      <th>Parch</th>\n",
       "      <th>Ticket</th>\n",
       "      <th>Fare</th>\n",
       "      <th>Cabin</th>\n",
       "      <th>Embarked</th>\n",
       "    </tr>\n",
       "  </thead>\n",
       "  <tbody>\n",
       "    <tr>\n",
       "      <th>0</th>\n",
       "      <td>1</td>\n",
       "      <td>0</td>\n",
       "      <td>3</td>\n",
       "      <td>Braund, Mr. Owen Harris</td>\n",
       "      <td>male</td>\n",
       "      <td>22.0</td>\n",
       "      <td>1</td>\n",
       "      <td>0</td>\n",
       "      <td>A/5 21171</td>\n",
       "      <td>7.2500</td>\n",
       "      <td>NaN</td>\n",
       "      <td>S</td>\n",
       "    </tr>\n",
       "    <tr>\n",
       "      <th>1</th>\n",
       "      <td>2</td>\n",
       "      <td>1</td>\n",
       "      <td>1</td>\n",
       "      <td>Cumings, Mrs. John Bradley (Florence Briggs Th...</td>\n",
       "      <td>female</td>\n",
       "      <td>38.0</td>\n",
       "      <td>1</td>\n",
       "      <td>0</td>\n",
       "      <td>PC 17599</td>\n",
       "      <td>71.2833</td>\n",
       "      <td>C85</td>\n",
       "      <td>C</td>\n",
       "    </tr>\n",
       "    <tr>\n",
       "      <th>2</th>\n",
       "      <td>3</td>\n",
       "      <td>1</td>\n",
       "      <td>3</td>\n",
       "      <td>Heikkinen, Miss. Laina</td>\n",
       "      <td>female</td>\n",
       "      <td>26.0</td>\n",
       "      <td>0</td>\n",
       "      <td>0</td>\n",
       "      <td>STON/O2. 3101282</td>\n",
       "      <td>7.9250</td>\n",
       "      <td>NaN</td>\n",
       "      <td>S</td>\n",
       "    </tr>\n",
       "    <tr>\n",
       "      <th>3</th>\n",
       "      <td>4</td>\n",
       "      <td>1</td>\n",
       "      <td>1</td>\n",
       "      <td>Futrelle, Mrs. Jacques Heath (Lily May Peel)</td>\n",
       "      <td>female</td>\n",
       "      <td>35.0</td>\n",
       "      <td>1</td>\n",
       "      <td>0</td>\n",
       "      <td>113803</td>\n",
       "      <td>53.1000</td>\n",
       "      <td>C123</td>\n",
       "      <td>S</td>\n",
       "    </tr>\n",
       "    <tr>\n",
       "      <th>4</th>\n",
       "      <td>5</td>\n",
       "      <td>0</td>\n",
       "      <td>3</td>\n",
       "      <td>Allen, Mr. William Henry</td>\n",
       "      <td>male</td>\n",
       "      <td>35.0</td>\n",
       "      <td>0</td>\n",
       "      <td>0</td>\n",
       "      <td>373450</td>\n",
       "      <td>8.0500</td>\n",
       "      <td>NaN</td>\n",
       "      <td>S</td>\n",
       "    </tr>\n",
       "  </tbody>\n",
       "</table>\n",
       "</div>"
      ],
      "text/plain": [
       "   PassengerId  Survived  Pclass  \\\n",
       "0            1         0       3   \n",
       "1            2         1       1   \n",
       "2            3         1       3   \n",
       "3            4         1       1   \n",
       "4            5         0       3   \n",
       "\n",
       "                                                Name     Sex   Age  SibSp  \\\n",
       "0                            Braund, Mr. Owen Harris    male  22.0      1   \n",
       "1  Cumings, Mrs. John Bradley (Florence Briggs Th...  female  38.0      1   \n",
       "2                             Heikkinen, Miss. Laina  female  26.0      0   \n",
       "3       Futrelle, Mrs. Jacques Heath (Lily May Peel)  female  35.0      1   \n",
       "4                           Allen, Mr. William Henry    male  35.0      0   \n",
       "\n",
       "   Parch            Ticket     Fare Cabin Embarked  \n",
       "0      0         A/5 21171   7.2500   NaN        S  \n",
       "1      0          PC 17599  71.2833   C85        C  \n",
       "2      0  STON/O2. 3101282   7.9250   NaN        S  \n",
       "3      0            113803  53.1000  C123        S  \n",
       "4      0            373450   8.0500   NaN        S  "
      ]
     },
     "execution_count": 2,
     "metadata": {},
     "output_type": "execute_result"
    }
   ],
   "source": [
    "df = pd.read_csv('titanic.csv')\n",
    "df.head()"
   ]
  },
  {
   "cell_type": "markdown",
   "id": "10f248c0-df9d-4ef1-922b-7338163e750c",
   "metadata": {},
   "source": [
    "## 1.Какое количество мужчин и женщин ехало на корабле? \n",
    "В качестве ответа приведите два числа через пробел."
   ]
  },
  {
   "cell_type": "code",
   "execution_count": 3,
   "id": "fd82fed8-90d1-49b5-84ec-a25490e6ed94",
   "metadata": {},
   "outputs": [
    {
     "name": "stdout",
     "output_type": "stream",
     "text": [
      "577 314\n"
     ]
    }
   ],
   "source": [
    "sex_counts = df['Sex'].value_counts()\n",
    "print(sex_counts['male'], sex_counts['female'])"
   ]
  },
  {
   "cell_type": "markdown",
   "id": "58d5fc38-d697-49d5-ab47-7ed3940f155d",
   "metadata": {},
   "source": [
    "## 2.Какой части пассажиров удалось выжить? \n",
    "Посчитайте долю выживших пассажиров. \n",
    "Ответ приведите в процентах (число в интервале от 0 до 100, знак процента не нужен), округлив до двух знаков."
   ]
  },
  {
   "cell_type": "code",
   "execution_count": 4,
   "id": "3362760c-1b4a-463e-8263-c987dc41e7f8",
   "metadata": {},
   "outputs": [
    {
     "data": {
      "text/plain": [
       "38.38"
      ]
     },
     "execution_count": 4,
     "metadata": {},
     "output_type": "execute_result"
    }
   ],
   "source": [
    "survived_counts = df['Survived'].value_counts()\n",
    "round(survived_counts[1] / len(df) * 100, 2).item()"
   ]
  },
  {
   "cell_type": "markdown",
   "id": "374330f2-9ab7-4a3c-bdc6-d3d8342def46",
   "metadata": {},
   "source": [
    "## 3. Какую долю пассажиры первого класса составляли среди всех пассажиров? \n",
    "Ответ приведите в процентах (число в интервале от 0 до 100, знак процента не нужен), округлив до двух знаков."
   ]
  },
  {
   "cell_type": "code",
   "execution_count": 5,
   "id": "1a5f1174-7b88-4a33-93d4-62bafe341437",
   "metadata": {},
   "outputs": [
    {
     "data": {
      "text/plain": [
       "24.24"
      ]
     },
     "execution_count": 5,
     "metadata": {},
     "output_type": "execute_result"
    }
   ],
   "source": [
    "round((df['Pclass'] == 1).sum() / len(df) * 100, 2).item()"
   ]
  },
  {
   "cell_type": "markdown",
   "id": "cd513a30-55f7-4ce7-b1c5-9297159e5a8a",
   "metadata": {},
   "source": [
    "## 4. Какого возраста были пассажиры? \n",
    "Посчитайте среднее и медиану возраста пассажиров. \n",
    "В качестве ответа приведите два числа через пробел."
   ]
  },
  {
   "cell_type": "code",
   "execution_count": 6,
   "id": "fe6ea6f1-7d25-4600-adc7-7216b0a13a67",
   "metadata": {},
   "outputs": [
    {
     "data": {
      "text/plain": [
       "(29.7, 28.0)"
      ]
     },
     "execution_count": 6,
     "metadata": {},
     "output_type": "execute_result"
    }
   ],
   "source": [
    "round(df['Age'].mean(), 2).item(), df['Age'].median().item()"
   ]
  },
  {
   "cell_type": "markdown",
   "id": "5820250c-3f9c-4eed-a251-241506592b69",
   "metadata": {},
   "source": [
    "## 5. Коррелируют ли число братьев/сестер с числом родителей/детей? \n",
    "Посчитайте корреляцию Пирсона между признаками SibSp и Parch."
   ]
  },
  {
   "cell_type": "code",
   "execution_count": 7,
   "id": "034e15de-7eb7-4aa6-b333-204ef79ae51c",
   "metadata": {},
   "outputs": [
    {
     "name": "stdout",
     "output_type": "stream",
     "text": [
      "0.41\n"
     ]
    }
   ],
   "source": [
    "# cor_pirs = df['SibSp'].corr(df['Parch'])\n",
    "# cor_pirs\n",
    "# аналогично\n",
    "corr = np.corrcoef(df['SibSp'], df['Parch'])[0, 1]\n",
    "print(round(corr, 2))"
   ]
  },
  {
   "cell_type": "markdown",
   "id": "0eda46a1-93aa-403f-80f5-d5bf1d1635fb",
   "metadata": {},
   "source": [
    "## 6. Какое самое популярное женское имя на корабле?\n",
    "   Извлеките из полного имени пассажира (колонка Name) его личное имя (First Name). \n",
    "   Это задание — типичный пример того, с чем сталкивается специалист по анализу данных. \n",
    "   Данные очень разнородные и шумные, но из них требуется извлечь необходимую информацию.\n",
    "   Попробуйте вручную разобрать несколько значений столбца Name \n",
    "   и выработать правило для извлечения имен, а также разделения их на женские и мужские."
   ]
  },
  {
   "cell_type": "code",
   "execution_count": 9,
   "id": "f97c5e23-96e6-41d5-b3b1-e59430e498ad",
   "metadata": {},
   "outputs": [
    {
     "data": {
      "text/plain": [
       "'Anna'"
      ]
     },
     "execution_count": 9,
     "metadata": {},
     "output_type": "execute_result"
    }
   ],
   "source": [
    "female_names = []\n",
    "for name in df['Name']:\n",
    "    if 'Miss.' in name:\n",
    "        fem = re.search(r'Miss\\. ([A-Za-z]+)', name)\n",
    "        if fem:\n",
    "            female_names.append(fem.group(1))\n",
    "\n",
    "    elif 'Mrs.' in name:\n",
    "        fem = re.search(r'\\(([^)]+)\\)', name)  \n",
    "        if fem:\n",
    "            full_name = fem.group(1)\n",
    "            first_name = full_name.split()[0]\n",
    "            female_names.append(first_name)\n",
    "\n",
    "most_popular_name, count = Counter(female_names).most_common(1)[0]\n",
    "most_popular_name"
   ]
  }
 ],
 "metadata": {
  "kernelspec": {
   "display_name": "Python 3 (ipykernel)",
   "language": "python",
   "name": "python3"
  },
  "language_info": {
   "codemirror_mode": {
    "name": "ipython",
    "version": 3
   },
   "file_extension": ".py",
   "mimetype": "text/x-python",
   "name": "python",
   "nbconvert_exporter": "python",
   "pygments_lexer": "ipython3",
   "version": "3.12.4"
  }
 },
 "nbformat": 4,
 "nbformat_minor": 5
}
